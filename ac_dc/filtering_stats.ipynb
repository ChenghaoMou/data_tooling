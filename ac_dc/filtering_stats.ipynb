{
 "cells": [
  {
   "cell_type": "code",
   "execution_count": null,
   "id": "e986a734-a05f-4a6c-8d50-091ba651c0d7",
   "metadata": {},
   "outputs": [],
   "source": [
    "from datasets import Dataset\n",
    "import nltk\n",
    "nltk.download(\"stopwords\")\n",
    "from nltk.corpus import stopwords as nltk_stopwords"
   ]
  },
  {
   "cell_type": "code",
   "execution_count": null,
   "id": "5599abe9-74a6-4ee8-821c-63760ef728d7",
   "metadata": {},
   "outputs": [],
   "source": [
    "stopwords = set(nltk_stopwords.words(\"french\"))"
   ]
  },
  {
   "cell_type": "code",
   "execution_count": null,
   "id": "da86c1f1-c2c2-4b4f-ba1f-d607afeb1529",
   "metadata": {},
   "outputs": [],
   "source": [
    "def lower_strip_sentence(sentence):\n",
    "    sent = sentence.lower().strip()\n",
    "    return sent\n",
    "\n",
    "\n",
    "def get_words_from_sentence(sentence, strip_characters):\n",
    "    sent = lower_strip_sentence(sentence)\n",
    "    words = [word.strip(strip_characters) for word in sent.split(\" \")]\n",
    "    return words\n",
    "\n",
    "def check_stopwords(\n",
    "    sentence,\n",
    "    strip_characters,\n",
    "    stopwords,\n",
    "):\n",
    "    if stopwords:\n",
    "        words = get_words_from_sentence(sentence, strip_characters)\n",
    "        stopwords_ratio = len([word for word in words if word in stopwords]) / len(\n",
    "            words\n",
    "        )\n",
    "        return stopwords_ratio\n",
    "    \n",
    "def check_special_characters(\n",
    "    sentence,\n",
    "    special_characters,\n",
    "):\n",
    "    sent = lower_strip_sentence(sentence)\n",
    "    set_special_characters = {char for char in special_characters}\n",
    "    special_characters_ratio = len(\n",
    "        [char for char in sent if char in set_special_characters]\n",
    "    ) / (len(sent) + 1e-10)\n",
    "    return special_characters_ratio "
   ]
  },
  {
   "cell_type": "code",
   "execution_count": null,
   "id": "4740457e-7151-4b5e-983e-e4c4887b5e90",
   "metadata": {},
   "outputs": [],
   "source": [
    "lang = \"fr\"\n",
    "ds = Dataset.load_from_disk(f\"../Oscar_filtered/{lang}_debug/\")\n",
    "ds.to_pandas().loc[:, ['cond_check_empty', 'cond_check_special_characters', 'cond_check_stopwords', 'cond_check_badwords', 'cond_check_lang_id']].mean()"
   ]
  },
  {
   "cell_type": "code",
   "execution_count": null,
   "id": "0122c3ac-feae-4ed7-b43e-9f472011e47e",
   "metadata": {},
   "outputs": [],
   "source": [
    "df = ds.to_pandas()"
   ]
  },
  {
   "cell_type": "code",
   "execution_count": null,
   "id": "d6b42de0-14a8-462b-aa93-ff8f6251ee77",
   "metadata": {},
   "outputs": [],
   "source": [
    "df.head()"
   ]
  },
  {
   "cell_type": "code",
   "execution_count": null,
   "id": "54290b90-8d33-4402-bc16-02642c61214f",
   "metadata": {},
   "outputs": [],
   "source": [
    "strip_characters = \"' 0123456789¯_%$§½¼¾×|†~\\\"—±′–'°−{}[]·'?,./<>!@#^&*()+-‑=:;，：,...�`→¶.…‘’”\"\n",
    "special_characters = \"' 0123456789¯_%$§½¼¾×|†~\\\"—±′–'°−{}[]·'?,./<>!@#^&*()+-‑=:;，：,...�`→¶.…‘’”\""
   ]
  },
  {
   "cell_type": "code",
   "execution_count": null,
   "id": "dc3bce80-efb8-483d-b492-68196e94dc71",
   "metadata": {},
   "outputs": [],
   "source": [
    "df['stopwords_ratio'] = df['text'].apply(lambda x: check_stopwords(sentence=x, strip_characters=strip_characters, stopwords=stopwords))\n",
    "df['special_characters_ratio'] = df['text'].apply(lambda x: check_special_characters(x, special_characters))"
   ]
  },
  {
   "cell_type": "code",
   "execution_count": null,
   "id": "11db9776-6ade-4869-ac80-0a57441b5c2c",
   "metadata": {},
   "outputs": [],
   "source": [
    "ax = df.special_characters_ratio.hist(bins=50, figsize=(12, 12))\n",
    "ax.set_xlabel(\"special_characters_ratio\")\n",
    "ax.set_ylabel(\"Frequency\")"
   ]
  },
  {
   "cell_type": "code",
   "execution_count": null,
   "id": "d21969bd-1156-4b6b-81b5-a58cf219ea77",
   "metadata": {},
   "outputs": [],
   "source": [
    "ax = df.stopwords_ratio.hist(bins=50, figsize=(12, 12))\n",
    "ax.set_xlabel(\"stopwords_ratio\")\n",
    "ax.set_ylabel(\"Frequency\")"
   ]
  },
  {
   "cell_type": "code",
   "execution_count": null,
   "id": "d7613dca-f50c-4415-82f4-5e0dc69c0da6",
   "metadata": {},
   "outputs": [],
   "source": [
    "df"
   ]
  },
  {
   "cell_type": "code",
   "execution_count": null,
   "id": "08d5e3e6-33c3-458b-8f6e-4a6ca7c00512",
   "metadata": {},
   "outputs": [],
   "source": [
    "df.loc[df.special_characters_ratio > 0.35]"
   ]
  },
  {
   "cell_type": "code",
   "execution_count": null,
   "id": "039437c3-4244-4114-906e-1ce9459f5b7e",
   "metadata": {},
   "outputs": [],
   "source": [
    "df.loc[df.stopwords_ratio > 0.75].iloc[1].text"
   ]
  }
 ],
 "metadata": {
  "kernelspec": {
   "display_name": "Python 3 (ipykernel)",
   "language": "python",
   "name": "python3"
  },
  "language_info": {
   "codemirror_mode": {
    "name": "ipython",
    "version": 3
   },
   "file_extension": ".py",
   "mimetype": "text/x-python",
   "name": "python",
   "nbconvert_exporter": "python",
   "pygments_lexer": "ipython3",
   "version": "3.8.1"
  }
 },
 "nbformat": 4,
 "nbformat_minor": 5
}
